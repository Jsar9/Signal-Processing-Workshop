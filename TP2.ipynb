{
 "cells": [
  {
   "cell_type": "markdown",
   "id": "ec1ee5b4",
   "metadata": {},
   "source": [
    "# Trabajo práctico N°2 - Regresión polinómica."
   ]
  },
  {
   "cell_type": "markdown",
   "id": "0a55acd7",
   "metadata": {},
   "source": [
    "# Exploración de datos."
   ]
  },
  {
   "cell_type": "code",
   "execution_count": 145,
   "id": "ae0d22b8",
   "metadata": {},
   "outputs": [],
   "source": [
    "#librerías\n",
    "import pandas as pd\n",
    "import numpy as np\n",
    "import matplotlib.pyplot as plt"
   ]
  },
  {
   "cell_type": "markdown",
   "id": "a2e9c704",
   "metadata": {},
   "source": [
    "##### Se definen los conjuntos de entrenamiento, testeo y validación."
   ]
  },
  {
   "cell_type": "code",
   "execution_count": 146,
   "id": "36fba6b5",
   "metadata": {},
   "outputs": [],
   "source": [
    "\n",
    "#se cargan los datos del csv\n",
    "df = pd.read_csv('car_data.csv')\n",
    "\n",
    "#Se eliminan del df las columnas del nombre del auto y su dueño.\n",
    "df.drop('Car_Name', axis=1, inplace=True)  #Se modifica el df en sí, no genera una copia.\n",
    "df.drop('Owner', axis=1, inplace=True) \n",
    "\n",
    "#Se definen los conjuntos de entrenamiento, testeo y validación\n",
    "train = df[df['Set'] == 'Train'].copy()\n",
    "test = df[df['Set'] == 'Test'].copy()\n",
    "validation = df[df['Set'] == 'Validation'].copy()\n",
    "\n",
    "#Se elimina la columna Set del df original\n",
    "df.drop('Set', axis=1, inplace=True) \n"
   ]
  },
  {
   "cell_type": "markdown",
   "id": "8311e20d",
   "metadata": {},
   "source": [
    "##### Se calculan las proporciones de las variables categóricas, representando las probabilidades de cada una."
   ]
  },
  {
   "cell_type": "code",
   "execution_count": 147,
   "id": "1144d885",
   "metadata": {},
   "outputs": [
    {
     "name": "stdout",
     "output_type": "stream",
     "text": [
      "Fuel_Type\n",
      "Petrol    0.794020\n",
      "Diesel    0.199336\n",
      "CNG       0.006645\n",
      "Name: proportion, dtype: float64 \n",
      "\n",
      "Seller_Type\n",
      "Dealer        0.647841\n",
      "Individual    0.352159\n",
      "Name: proportion, dtype: float64 \n",
      "\n",
      "Transmission\n",
      "Manual       0.86711\n",
      "Automatic    0.13289\n",
      "Name: proportion, dtype: float64 \n",
      "\n"
     ]
    }
   ],
   "source": [
    "#Se calculan las probabilidades para los tipos de combustible (Fuel_Type)\n",
    "prob_fuel_type = df['Fuel_Type'].value_counts(normalize=True)\n",
    "\n",
    "#Se calculan las probabildiades para lso tipos de vendedores (Seller_Type)\n",
    "prob_seller_type = df['Seller_Type'].value_counts(normalize=True)\n",
    "\n",
    "#Se calculan las probabilidades de los tipos de transmisiones (Transmission)\n",
    "prob_transmission_type = df['Transmission'].value_counts(normalize=True)\n",
    "\n",
    "print(prob_fuel_type,'\\n')\n",
    "print(prob_seller_type,'\\n')\n",
    "print(prob_transmission_type,'\\n')"
   ]
  },
  {
   "cell_type": "markdown",
   "id": "52d173f2",
   "metadata": {},
   "source": [
    "# Pre-procesamiento."
   ]
  },
  {
   "cell_type": "code",
   "execution_count": 148,
   "id": "c28f82a4",
   "metadata": {},
   "outputs": [],
   "source": [
    "#librerias\n",
    "from sklearn.preprocessing import OneHotEncoder, PolynomialFeatures, StandardScaler\n",
    "from sklearn.compose import ColumnTransformer\n",
    "from sklearn.pipeline import Pipeline\n",
    "from sklearn.linear_model import LinearRegression"
   ]
  },
  {
   "cell_type": "markdown",
   "id": "e0ed81b9",
   "metadata": {},
   "source": [
    "##### Codificación."
   ]
  },
  {
   "cell_type": "code",
   "execution_count": 149,
   "id": "7f7fbe2b",
   "metadata": {},
   "outputs": [
    {
     "name": "stdout",
     "output_type": "stream",
     "text": [
      "[array(['CNG', 'Diesel', 'Petrol'], dtype=object)]\n"
     ]
    }
   ],
   "source": [
    "#Se codifican las variables categóricas\n",
    "\n",
    "#Variables binarias - Se definen los menos probables como True - con el fin de aprovechar el Sparse\n",
    "# Transmission: Automatic está definido True (pasado a 1 por .astype(int))\n",
    "transmission_encoded = (df['Transmission'] == 'Automatic').astype(int)\n",
    "\n",
    "# Seller_Type: Individual está definido como True (pasado a 1 por .astype(int))\n",
    "seller_encoded = (df['Seller_Type'] == 'Individual').astype(int)\n",
    " \n",
    "#Variables de 3 categorías:\n",
    " #Se crea el encoder como un array denso (no elimina los 0's)\n",
    "fuel_encoder = OneHotEncoder(sparse_output=False)\n",
    "\n",
    " #Se transforma la columna del df a una codificación one-hot, utilizando el fuel_encoder\n",
    "fuel_encoded = fuel_encoder.fit_transform(df[['Fuel_Type']])\n",
    "\n",
    " #Se aprecia el orden de las categorias de combustible ya codificadas\n",
    "print(fuel_encoder.categories_)\n"
   ]
  },
  {
   "cell_type": "markdown",
   "id": "778a961b",
   "metadata": {},
   "source": [
    "##### Mapa polinómico."
   ]
  },
  {
   "cell_type": "code",
   "execution_count": 150,
   "id": "6ced8893",
   "metadata": {},
   "outputs": [],
   "source": [
    "#Se seleccionan las columnas con valores exceptuando las categóricas y el precio de venta.\n",
    "values = df.drop(columns = ['Selling_Price','Transmission','Seller_Type','Fuel_Type' ]).copy()\n",
    "\n",
    "#Se crea el mapa polinómico de grado 3, sin incluir la columna de 1's\n",
    "poly = PolynomialFeatures(degree=3, include_bias=False)\n",
    "values_poly = poly.fit_transform(values)\n",
    "\n",
    "#Se concatenan todos los datos en un array de numpy antes de pasarlos a ColumnTransformer\n",
    "data_combined = np.c_[\n",
    "    values_poly,\n",
    "    transmission_encoded.values,\n",
    "    seller_encoded.values,\n",
    "    fuel_encoded\n",
    "]\n",
    "\n",
    "#Se prepara el transformador de los datos, indicando la normalización\n",
    "preprocessor = ColumnTransformer([\n",
    "    ('scaler', StandardScaler(), list(range(data_combined.shape[1])))\n",
    "])\n"
   ]
  },
  {
   "cell_type": "markdown",
   "id": "38982027",
   "metadata": {},
   "source": [
    "# Regresión Lineal."
   ]
  },
  {
   "cell_type": "code",
   "execution_count": 151,
   "id": "a814c132",
   "metadata": {},
   "outputs": [],
   "source": [
    "#Se define el pipeline, indicando primero la normalización y luego el entrenamiento de la regresión lineal\n",
    "pipeline = Pipeline([\n",
    "    ('preprocessing', preprocessor),\n",
    "    ('regressor', LinearRegression())\n",
    "])\n",
    "\n",
    "#Se define la variable a predecir\n",
    "y = df['Selling_Price'].values\n",
    "\n",
    "#Se entrena el modelo, utilizando los datos concatenados, con el objetivo de predecir y\n",
    "pipeline.fit(data_combined, y)\n",
    "\n",
    "#Se realiza la predicción de y, utilizando los datos entrenados\n",
    "y_pred = pipeline.predict(data_combined)"
   ]
  },
  {
   "cell_type": "markdown",
   "id": "7c31df4f",
   "metadata": {},
   "source": [
    "# Regularización."
   ]
  }
 ],
 "metadata": {
  "kernelspec": {
   "display_name": "Python 3",
   "language": "python",
   "name": "python3"
  },
  "language_info": {
   "codemirror_mode": {
    "name": "ipython",
    "version": 3
   },
   "file_extension": ".py",
   "mimetype": "text/x-python",
   "name": "python",
   "nbconvert_exporter": "python",
   "pygments_lexer": "ipython3",
   "version": "3.11.4"
  }
 },
 "nbformat": 4,
 "nbformat_minor": 5
}
