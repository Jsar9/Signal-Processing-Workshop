{
 "cells": [
  {
   "cell_type": "markdown",
   "id": "aad941a3",
   "metadata": {},
   "source": [
    "# EJ OBLIGATORIO - SUPPORT VECTOR MACHINE (SVM)"
   ]
  }
 ],
 "metadata": {
  "language_info": {
   "name": "python"
  }
 },
 "nbformat": 4,
 "nbformat_minor": 5
}
