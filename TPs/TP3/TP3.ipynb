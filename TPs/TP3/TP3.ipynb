{
 "cells": [
  {
   "cell_type": "markdown",
   "id": "b7ecbd93",
   "metadata": {},
   "source": [
    "# TRABAJO PRÁCTICO 3 - Regresión Logística."
   ]
  },
  {
   "cell_type": "code",
   "execution_count": 46,
   "id": "ae97c0e5",
   "metadata": {},
   "outputs": [],
   "source": [
    "#Librerías\n",
    "\n",
    "import numpy as np\n",
    "import matplotlib.pyplot as plt\n",
    "from tensorflow.keras.datasets import mnist\n"
   ]
  },
  {
   "cell_type": "markdown",
   "id": "2d22a23c",
   "metadata": {},
   "source": [
    "##### Exploración de datos"
   ]
  },
  {
   "cell_type": "code",
   "execution_count": 47,
   "id": "a0dbbe59",
   "metadata": {},
   "outputs": [
    {
     "name": "stdout",
     "output_type": "stream",
     "text": [
      "shape: entrenamiento \t X: (60000, 28, 28) \t Y: (60000,)\n",
      "shape: test \t X: (10000, 28, 28) \t Y: (10000,)\n"
     ]
    },
    {
     "data": {
      "image/png": "[encoded data removed]",
      "text/plain": [
       "<Figure size 640x480 with 10 Axes>"
      ]
     },
     "metadata": {},
     "output_type": "display_data"
    }
   ],
   "source": [
    "(x_train, y_train), (x_test, y_test) = mnist.load_data ()\n",
    "\n",
    "print('shape: entrenamiento','\\t X:', x_train.shape, '\\t Y:',y_train.shape)\n",
    "print('shape: test','\\t X:', x_test.shape, '\\t Y:',y_test.shape)\n",
    "\n",
    "for i in np.arange(0,10,1):\n",
    "    plt.subplot(2,5,i+1)\n",
    "    plt.imshow(x_train[i])\n",
    "    plt.axis(\"off\")\n",
    "plt.tight_layout()\n",
    "\n",
    "#S1 -> impares  y 0 -> pares\n",
    "categorical_train = y_train %2\n",
    "categorical_test = y_test %2"
   ]
  },
  {
   "cell_type": "markdown",
   "id": "9a02daed",
   "metadata": {},
   "source": [
    "# Preprocesamiento"
   ]
  },
  {
   "cell_type": "code",
   "execution_count": 48,
   "id": "5eebda2a",
   "metadata": {},
   "outputs": [],
   "source": [
    "class Normalizar : \n",
    "    def __init__ (self):\n",
    "        self.mean = None\n",
    "        self.var = None\n",
    "    \n",
    "    def fit(self, X):\n",
    "        self.mean = np.zeros((X.shape[1], X.shape[2]))\n",
    "        self.var = np.zeros((X.shape[1], X.shape[2]))\n",
    "\n",
    "        for i in range (X.shape[1]):\n",
    "            for j in range (X.shape[2]):\n",
    "                self.mean[i,j] = np.mean(X[:,i,j])  #Se calcula la media del mismo pixel en todas las img\n",
    "                self.var[i,j] = np.var(X[:,i,j]) #Se calcula la varianza del mismo pixel en todas las img\n",
    "        \n",
    "    def transform(self, X):\n",
    "        X_c = np.copy(X) #Se genera una copia para no modificar los datos originales\n",
    "        X_c = X_c.reshape(X_c.shape[0],-1) #Se cambia el tamaño para tener un array de 60k x 784\n",
    "        var_reshaped = self.var.reshape(-1) #Se arma la fila de 784 elementos a partir del 28x28\n",
    "        mean_reshaped = self.mean.reshape(-1) #Se arma la fila de 784 elementos a partir del 28x28\n",
    "\n",
    "        for i in range(var_reshaped.shape[0]): #Se recorre todo el array de varianzas\n",
    "            if(var_reshaped[i] > 0 ): #Si la varianza no es nula\n",
    "                X_c[:,i] = (X_c[:,i] - mean_reshaped[i]) / np.sqrt(var_reshaped[i]) #Normalizar\n",
    "        \n",
    "        filter = (var_reshaped != 0)\n",
    "        return X_c[:,filter] #Se aplica el filtro a las 60k img y se guarda en el dataset inicial\n",
    "\n",
    "    def fit_transform(self, X):\n",
    "        self.fit(self,X)\n",
    "        return self.transform(self,X)\n"
   ]
  },
  {
   "cell_type": "code",
   "execution_count": null,
   "id": "69fc9688",
   "metadata": {},
   "outputs": [
    {
     "ename": "TypeError",
     "evalue": "Normalizar.fit() takes 2 positional arguments but 3 were given",
     "output_type": "error",
     "traceback": [
      "\u001b[31m---------------------------------------------------------------------------\u001b[39m",
      "\u001b[31mTypeError\u001b[39m                                 Traceback (most recent call last)",
      "\u001b[36mCell\u001b[39m\u001b[36m \u001b[39m\u001b[32mIn[49]\u001b[39m\u001b[32m, line 9\u001b[39m\n\u001b[32m      4\u001b[39m norm.fit(x_train)\n\u001b[32m      6\u001b[39m data = norm.transform(x_train)\n\u001b[32m----> \u001b[39m\u001b[32m9\u001b[39m data = \u001b[43mnorm\u001b[49m\u001b[43m.\u001b[49m\u001b[43mfit_transform\u001b[49m\u001b[43m(\u001b[49m\u001b[43mx_train\u001b[49m\u001b[43m)\u001b[49m\n",
      "\u001b[36mCell\u001b[39m\u001b[36m \u001b[39m\u001b[32mIn[48]\u001b[39m\u001b[32m, line 29\u001b[39m, in \u001b[36mNormalizar.fit_transform\u001b[39m\u001b[34m(self, X)\u001b[39m\n\u001b[32m     28\u001b[39m \u001b[38;5;28;01mdef\u001b[39;00m\u001b[38;5;250m \u001b[39m\u001b[34mfit_transform\u001b[39m(\u001b[38;5;28mself\u001b[39m, X):\n\u001b[32m---> \u001b[39m\u001b[32m29\u001b[39m     \u001b[38;5;28;43mself\u001b[39;49m\u001b[43m.\u001b[49m\u001b[43mfit\u001b[49m\u001b[43m(\u001b[49m\u001b[38;5;28;43mself\u001b[39;49m\u001b[43m,\u001b[49m\u001b[43mX\u001b[49m\u001b[43m)\u001b[49m\n\u001b[32m     30\u001b[39m     \u001b[38;5;28;01mreturn\u001b[39;00m \u001b[38;5;28mself\u001b[39m.transform(\u001b[38;5;28mself\u001b[39m,X)\n",
      "\u001b[31mTypeError\u001b[39m: Normalizar.fit() takes 2 positional arguments but 3 were given"
     ]
    }
   ],
   "source": [
    "#Testing\n",
    "norm = Normalizar()\n",
    "\n",
    "norm.fit(x_train)\n",
    "\n",
    "data = norm.transform(x_train)\n",
    "\n",
    "\n",
    "data = norm.fit_transform(x_train)\n",
    "\n",
    "\n",
    "\n",
    "\n",
    "\n",
    "\n",
    "\n",
    "\n"
   ]
  }
 ],
 "metadata": {
  "kernelspec": {
   "display_name": "Python 3",
   "language": "python",
   "name": "python3"
  },
  "language_info": {
   "codemirror_mode": {
    "name": "ipython",
    "version": 3
   },
   "file_extension": ".py",
   "mimetype": "text/x-python",
   "name": "python",
   "nbconvert_exporter": "python",
   "pygments_lexer": "ipython3",
   "version": "3.13.0"
  }
 },
 "nbformat": 4,
 "nbformat_minor": 5
}
