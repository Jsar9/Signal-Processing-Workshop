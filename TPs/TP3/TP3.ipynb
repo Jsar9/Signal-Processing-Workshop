{
 "cells": [
  {
   "cell_type": "markdown",
   "id": "b7ecbd93",
   "metadata": {},
   "source": [
    "# TRABAJO PRÁCTICO 3 - Regresión Logística."
   ]
  },
  {
   "cell_type": "code",
   "execution_count": 54,
   "id": "ae97c0e5",
   "metadata": {},
   "outputs": [],
   "source": [
    "#Librerías\n",
    "\n",
    "import numpy as np\n",
    "import matplotlib.pyplot as plt\n",
    "from tensorflow.keras.datasets import mnist"
   ]
  },
  {
   "cell_type": "markdown",
   "id": "2d22a23c",
   "metadata": {},
   "source": [
    "# Exploración de datos"
   ]
  },
  {
   "cell_type": "code",
   "execution_count": 55,
   "id": "a0dbbe59",
   "metadata": {},
   "outputs": [
    {
     "name": "stdout",
     "output_type": "stream",
     "text": [
      "shape: entrenamiento \t X: (60000, 28, 28) \t Y: (60000,)\n",
      "shape: test \t X: (10000, 28, 28) \t Y: (10000,)\n"
     ]
    },
    {
     "data": {
      "image/png": "[encoded data removed]",
      "text/plain": [
       "<Figure size 640x480 with 10 Axes>"
      ]
     },
     "metadata": {},
     "output_type": "display_data"
    }
   ],
   "source": [
    "(x_train, y_train), (x_test, y_test) = mnist.load_data ()\n",
    "\n",
    "print('shape: entrenamiento','\\t X:', x_train.shape, '\\t Y:',y_train.shape)\n",
    "print('shape: test','\\t X:', x_test.shape, '\\t Y:',y_test.shape)\n",
    "\n",
    "for i in np.arange(0,10,1):\n",
    "    plt.subplot(2,5,i+1)\n",
    "    plt.imshow(x_train[i])\n",
    "    plt.axis(\"off\")\n",
    "plt.tight_layout()\n",
    "\n",
    "#1 -> impares  y 0 -> pares\n",
    "categorical_train = y_train %2\n",
    "categorical_test = y_test %2"
   ]
  },
  {
   "cell_type": "markdown",
   "id": "9a02daed",
   "metadata": {},
   "source": [
    "# Preprocesamiento"
   ]
  },
  {
   "cell_type": "code",
   "execution_count": 56,
   "id": "5eebda2a",
   "metadata": {},
   "outputs": [],
   "source": [
    "class Normalizar : \n",
    "    def __init__ (self):\n",
    "        self.mean = None\n",
    "        self.var = None\n",
    "        self.mask = None\n",
    "    \n",
    "    def fit(self, X):\n",
    "        self.mean = np.mean(X, axis=0).astype(np.float32) #Se calcula la media a través de las 60k img (axis 0)\n",
    "        self.var = np.var(X, axis=0).astype(np.float32)    \n",
    "\n",
    "        X_c = np.copy(X) #Se genera una copia para no modificar los datos originales\n",
    "        X_c = X_c.reshape(X_c.shape[0],-1).astype(np.float32) #Se cambia el tamaño para tener un array de 60k x 784\n",
    "        var_reshaped = self.var.reshape(-1) #Se construye la fila de 784 elementos a partir del 28x28\n",
    "        \n",
    "        self.mask = (var_reshaped > 0.01)\n",
    "\n",
    "\n",
    "    def transform(self, X):\n",
    "        X_c = np.copy(X) #Se genera una copia para no modificar los datos originales\n",
    "        X_c = X_c.reshape(X_c.shape[0],-1).astype(np.float32) #Se cambia el tamaño para tener un array de 60k x 784\n",
    "        var_reshaped = self.var.reshape(-1) #Se construye la fila de 784 elementos a partir del 28x28\n",
    "        mean_reshaped = self.mean.reshape(-1) #Se construye la fila de 784 elementos a partir del 28x28\n",
    "    \n",
    "        var_reshaped = var_reshaped[self.mask]\n",
    "        mean_reshaped = mean_reshaped[self.mask]\n",
    "        X_c = X_c[:,self.mask]\n",
    "        \n",
    "        for i in range (var_reshaped.shape[0]):\n",
    "            X_c[:,i] = (X_c[:,i] - mean_reshaped[i])/(np.sqrt(var_reshaped[i]))\n",
    "        \n",
    "        return X_c\n",
    "\n",
    "    def fit_transform(self, X):\n",
    "        self.fit(X)\n",
    "        return self.transform(X)\n",
    "    \n",
    "\n"
   ]
  },
  {
   "cell_type": "markdown",
   "id": "c1976404",
   "metadata": {},
   "source": [
    "##### Se aplica la normalización a los conjuntos de datos"
   ]
  },
  {
   "cell_type": "code",
   "execution_count": 57,
   "id": "69fc9688",
   "metadata": {},
   "outputs": [
    {
     "name": "stdout",
     "output_type": "stream",
     "text": [
      "(60000, 713) (10000, 713)\n"
     ]
    }
   ],
   "source": [
    "norm = Normalizar()\n",
    "\n",
    "# Train data\n",
    "x_train_norm = norm.fit_transform(x_train)\n",
    "\n",
    "# Test data\n",
    "x_test_norm = norm.transform(x_test)\n",
    "\n",
    "print(x_train_norm.shape, x_test_norm.shape)\n"
   ]
  },
  {
   "cell_type": "markdown",
   "id": "701e04c0",
   "metadata": {},
   "source": [
    "# Regresión Logística"
   ]
  },
  {
   "cell_type": "code",
   "execution_count": 58,
   "id": "c86ee523",
   "metadata": {},
   "outputs": [],
   "source": [
    "class RegresionLogistica:\n",
    "    def __init__(self,learning_rate,iterations):\n",
    "        self.learning_rate = learning_rate #Learning rate del gradiente descendiente\n",
    "        self.iterations = iterations\n",
    "        self.theta = None #Vector de parámetros del gradiente descendiente\n",
    "        self.emp_risk = None\n",
    "        \n",
    "    def sigmoid(self,z):\n",
    "        return 1/(1+np.exp(-z))\n",
    "\n",
    "    def fit(self, X,y):\n",
    "        n_samples, n_features = X.shape #Se obtienen los tamaños del vector X (cantidad de imagenes y cantidad de pixeles) con el bias agregado\n",
    "        self.theta = np.zeros(n_features) #Se inicializa el vector de parámetros con 0, se tendrá un parámetros para cada pixel\n",
    "        self.emp_risk = np.zeros(self.iterations)\n",
    "\n",
    "        for i in range (self.iterations):\n",
    "            y_pred = self.sigmoid(X @ self.theta)\n",
    "            grad = (1/n_samples) * X.T @ (y_pred-y) #Se calcula el gradiente para la predicción\n",
    "            self.theta -= self.learning_rate * grad #Se actualiza el vector de parámetros\n",
    "            self.emp_risk[i] = self.cross_entropy(X,y) #Se guarda la entropia cruzada\n",
    "\n",
    "    #testeo soft\n",
    "    def predict_proba (self, X):\n",
    "        return self.sigmoid(X @ self.theta)\n",
    "    \n",
    "    #testeo hard\n",
    "    def predict(self, X):\n",
    "        return (self.predict_proba(X) >= 0.8).astype(int)\n",
    "        \n",
    "    def accuracy (self, X, y):\n",
    "        y_predict = self.predict(X)\n",
    "        return np.mean(y_predict == y)\n",
    "\n",
    "    def cross_entropy (self,X,y):\n",
    "        y_proba = self.predict_proba(X)\n",
    "        # epsilon = 1e-15\n",
    "        # y_proba = np.clip(y_proba, epsilon, 1 - epsilon) #Encapsula los valores pequeños para no generar NaN\n",
    "        return -np.mean(y * np.log(y_proba) + (1 - y) * np.log(1 - y_proba))\n",
    "        "
   ]
  },
  {
   "cell_type": "markdown",
   "id": "387467b9",
   "metadata": {},
   "source": [
    "#### Entrenamiento y testeo"
   ]
  },
  {
   "cell_type": "code",
   "execution_count": 59,
   "id": "d67cf98a",
   "metadata": {},
   "outputs": [
    {
     "name": "stdout",
     "output_type": "stream",
     "text": [
      "accuracy de entrenamiento: 0.8453\n",
      "accuracy de testeo: 0.8537\n",
      "entropía de entrenamiento: 0.2719\n",
      "entropía de testeo: 0.2722\n"
     ]
    },
    {
     "data": {
      "image/png": "[encoded data removed]",
      "text/plain": [
       "<Figure size 640x480 with 1 Axes>"
      ]
     },
     "metadata": {},
     "output_type": "display_data"
    }
   ],
   "source": [
    "\n",
    "N=10\n",
    "learning_rate = 0.5\n",
    "model = RegresionLogistica(learning_rate,N)\n",
    "\n",
    "#Se agrega la columna de bias\n",
    "x_train_norm = np.insert(x_train_norm, 0, 1, axis=1) \n",
    "x_test_norm = np.insert(x_test_norm, 0, 1, axis=1)\n",
    "\n",
    "\n",
    "model.fit(x_train_norm,categorical_train)\n",
    "\n",
    "# accuracy de entrenamiento\n",
    "acc_train = model.accuracy(x_train_norm, categorical_train)\n",
    "\n",
    "# accuracy de testeo\n",
    "acc_test = model.accuracy(x_test_norm, categorical_test)\n",
    "\n",
    "print('accuracy de entrenamiento:', round(acc_train,4))\n",
    "print('accuracy de testeo:', round(acc_test,4))\n",
    "\n",
    "\n",
    "cross_entropy_train = model.cross_entropy(x_train_norm,categorical_train) \n",
    "cross_entropy_test = model.cross_entropy(x_test_norm,categorical_test)\n",
    "\n",
    "print('entropía de entrenamiento:', round(cross_entropy_train,4))\n",
    "print('entropía de testeo:', round(cross_entropy_test,4))\n",
    "\n",
    "n = np.linspace(0,N,N)\n",
    "plt.plot(n,model.emp_risk)\n",
    "plt.title('Error empirico vs Cantidad de iteraciones')\n",
    "plt.xlabel('Iteraciones')\n",
    "plt.ylabel('Error empírico')\n",
    "plt.xlim([0,100])\n",
    "plt.ylim([np.min(model.emp_risk),np.max(model.emp_risk)])\n",
    "plt.grid(True)\n"
   ]
  },
  {
   "cell_type": "markdown",
   "id": "b7a4daf5",
   "metadata": {},
   "source": [
    "# Curva ROC"
   ]
  },
  {
   "cell_type": "code",
   "execution_count": 60,
   "id": "0fca3188",
   "metadata": {},
   "outputs": [
    {
     "data": {
      "image/png": "[encoded data removed]",
      "text/plain": [
       "<Figure size 640x480 with 1 Axes>"
      ]
     },
     "metadata": {},
     "output_type": "display_data"
    }
   ],
   "source": [
    "y_scores = model.predict_proba(x_train_norm) #X posee la columna de bias\n",
    "y_true = categorical_train\n",
    "\n",
    "thresholds = np.sort(np.unique(y_scores))[::-1] #Se seleccionan los umbrales, evitando repeticiones y se los ordena de forma descendente\n",
    "\n",
    "P = np.sum(y_true == 1) #Se calculan los positivos reales\n",
    "N = np.sum(y_true == 0) #Se calculan los negativos reales\n",
    "\n",
    "tpr_list = []\n",
    "fpr_list = []\n",
    "\n",
    "for thr in thresholds:\n",
    "    y_pred = (y_scores >= thr).astype(int) #Se buscan las probabilidades mayores que el umbral\n",
    "    TP = np.sum((y_pred == 1) & (y_true == 1)) #Verdaderos positivos: predice 1 y la etiqueta real es 1\n",
    "    FP = np.sum((y_pred == 1) & (y_true == 0)) #Falsos positivos: predice 1 y la etiqueta real es 0\n",
    "\n",
    "    TPR = TP / P if P > 0 else 0    #Se calculan TPR y FPR\n",
    "    FPR = FP / N if N > 0 else 0\n",
    "\n",
    "    tpr_list.append(TPR)    #Se cargan en las listas\n",
    "    fpr_list.append(FPR)\n",
    "\n",
    "tpr = np.concatenate(([0.0], tpr_list, [1.0])) #Se concatenan el 0 y el 1 que son los valores extremos de TPR y FPR (van entre 0 y 1)\n",
    "fpr = np.concatenate(([0.0], fpr_list, [1.0]))\n",
    "\n",
    "plt.plot(fpr, tpr)\n",
    "plt.xlabel(\"Frecuencia de falsos positivos\")\n",
    "plt.ylabel('Frecuencia de positivos verdaderos')\n",
    "plt.title('Curva ROC')\n",
    "plt.grid(True)\n",
    "\n"
   ]
  },
  {
   "cell_type": "markdown",
   "id": "8697ae5a",
   "metadata": {},
   "source": [
    "# Desarrollos teóricos"
   ]
  },
  {
   "cell_type": "markdown",
   "id": "938abf6e",
   "metadata": {},
   "source": [
    "### Cálculo de la función inversa de la función Sigmoide $\\sigma$(z)"
   ]
  },
  {
   "cell_type": "markdown",
   "id": "0022b8de",
   "metadata": {},
   "source": [
    "La función sigmoide se define como: $\\sigma(z) = \\frac{1}{1+e^{-z}}$"
   ]
  },
  {
   "cell_type": "markdown",
   "id": "cd85fd57",
   "metadata": {},
   "source": [
    "Si se llama $p = \\sigma (z)$ y se despeja $z$ en función de $p$, se tiene:\n",
    "\n",
    "$p$ $(1+e^{-z}) = 1$\n",
    "\n",
    "$(1+e^{-z}) = \\frac{1}{p}$\n",
    "\n",
    "$e^{-z} = \\frac{1}{p} - 1 $ \n",
    "\n",
    "$z = -ln|\\frac{1-p}{p}|$\n",
    "\n",
    "y finalmente, dado que $p$ $\\in$ $(0,1)$ y a las propiedades del logaritmo :\n",
    "\n",
    "$z=ln(\\frac{p}{1-p})$\n",
    "\n",
    "entonces:\n",
    "\n",
    "$\\sigma^{-1}(p) = ln(\\frac{p}{1-p})$"
   ]
  },
  {
   "cell_type": "markdown",
   "id": "d2b70203",
   "metadata": {},
   "source": [
    "### Cálculo de la derivada $\\sigma'(z)$"
   ]
  },
  {
   "cell_type": "markdown",
   "id": "31745eca",
   "metadata": {},
   "source": [
    "siguiendo con la misma notación: $p=\\sigma(z)$\n",
    "\n",
    "$\\sigma'(z) = \\frac{d}{dz} (\\frac{1}{1+e^{-z}}) = \\frac{d}{dz} (1+e^{-z})^{-1} = -1(1+e^{-z})^{-2} (-e^{-z}) = \\frac{e^{-z}}{(1+e^{-z})^2}$\n",
    "\n",
    "luego, escribiendo en términos de $p$:\n",
    "\n",
    "$\\frac{e^{-z}}{(1+e^{-z})^2}$ $\\rightarrow$ $p^2 e ^{ln(\\frac{1-p}{p})}$ $ = p^2 (\\frac{1-p}{p})$\n",
    "\n",
    "finalmente, la derivada es:\n",
    "\n",
    "$\\sigma'(p) = p-p^2$"
   ]
  },
  {
   "cell_type": "markdown",
   "id": "e8cdd715",
   "metadata": {},
   "source": [
    "### Función de costos asociada a una regresión logística de 2 clases"
   ]
  },
  {
   "cell_type": "markdown",
   "id": "eff18278",
   "metadata": {},
   "source": [
    "tomando:\n",
    "\n",
    "$p(x) = P_{Y|X=x}(1)$\n",
    "\n",
    "$P_{Y|X=x}(0) = 1-p(x)$\n",
    "\n",
    "Donde, $Y$ es una variable Bernoulli, que puede tomar valores $0$ y $1$.\n",
    "\n",
    "Para garantizar que la estimación se encuentre entre 0 y 1, se considera:\n",
    "\n",
    "$p(x)= \\sigma (\\omega^T x +b)$, donde $\\sigma(z)$ es la función Sigmoide\n",
    "\n",
    "\n",
    "\n",
    "Luego, la función de costos en función de los datos $x$ y la variable $y$, es: $l(x,y) = -log(\\hat{P}(y|x))$\n",
    "\n",
    "por lo que queda expresada según:\n",
    "\n",
    "$l(x,y) = -(1-y) log(1-\\sigma (\\omega^T x +b)) - y log(\\sigma (\\omega^T x +b))$\n",
    "\n",
    "luego, el gradiente de la misma, respecto a las variables $b$ y $\\omega$ vale:\n",
    "\n",
    "$\\frac{\\partial}{\\partial \\omega } l(x,y) = x (\\sigma (\\omega^T x +b) - y) $\n",
    "\n",
    "$\\frac{\\partial}{\\partial b } l(x,y) = \\sigma (\\omega^T x +b) - y $\n",
    "\n"
   ]
  }
 ],
 "metadata": {
  "kernelspec": {
   "display_name": "Python 3",
   "language": "python",
   "name": "python3"
  },
  "language_info": {
   "codemirror_mode": {
    "name": "ipython",
    "version": 3
   },
   "file_extension": ".py",
   "mimetype": "text/x-python",
   "name": "python",
   "nbconvert_exporter": "python",
   "pygments_lexer": "ipython3",
   "version": "3.13.0"
  }
 },
 "nbformat": 4,
 "nbformat_minor": 5
}
