{
 "cells": [
  {
   "cell_type": "markdown",
   "id": "34203b95",
   "metadata": {},
   "source": [
    "# TRABAJO PRÁCTICO 4 - KNN Y ANÁLISIS DEL DISCRIMINANTE"
   ]
  },
  {
   "cell_type": "code",
   "execution_count": 72,
   "id": "2de53ee4",
   "metadata": {},
   "outputs": [],
   "source": [
    "#librerías\n",
    "import pandas as pd\n",
    "import numpy as np\n",
    "import matplotlib.pyplot as plt\n",
    "from seaborn import pairplot \n",
    "from sklearn import model_selection as ms"
   ]
  },
  {
   "cell_type": "markdown",
   "id": "5686974a",
   "metadata": {},
   "source": [
    "## Exploración de datos"
   ]
  },
  {
   "cell_type": "code",
   "execution_count": 73,
   "id": "c18f2b12",
   "metadata": {},
   "outputs": [],
   "source": [
    "#Se cargan los datos del csv\n",
    "df = pd.read_csv('MulticlassDiabetesDataset.csv')\n",
    "\n",
    "p_test = 0.2\n",
    "p_train = 0.8\n",
    "\n",
    "#Cantidad de muestras por clase\n",
    "# print(df.shape[0])\n",
    "\n",
    "#Gráfico con pairplot\n",
    "# pairplot(df)\n",
    "\n",
    "#Se definen los conjuntos de entrenamiento y testeo \n",
    "[train,test] = ms.train_test_split(df, train_size = p_train ,test_size = p_test)\n",
    "\n",
    "y_train=train['Class'].sort_index()\n",
    "x_train = train.drop(columns = ['Class']).sort_index()\n",
    "\n",
    "y_test = test['Class'].sort_index()\n",
    "x_test = test.drop(columns = ['Class']).sort_index()\n"
   ]
  },
  {
   "cell_type": "markdown",
   "id": "2fa3709c",
   "metadata": {},
   "source": [
    "## Análisis del discriminante"
   ]
  },
  {
   "cell_type": "code",
   "execution_count": 74,
   "id": "59197a96",
   "metadata": {},
   "outputs": [],
   "source": [
    "class LDA_QDA:\n",
    "    def __init__ (self, LDA = False):\n",
    "        self.LDA = False\n",
    "        self.D = None\n",
    "        self.c = None\n",
    "        self.sigma = None\n",
    "        self.sigma_lda = None\n",
    "\n",
    "    #Testeo de entrenamiento\n",
    "    def fit (self, X, y):\n",
    "        #Se definen los conjuntos de datos en base a las categorías\n",
    "        non_diabetic = X[y == 0]\n",
    "        pre_diabetic = X[y == 1]\n",
    "        diabetic = X[y == 2]\n",
    "\n",
    "        self.D = [non_diabetic,pre_diabetic,diabetic]\n",
    "        n_cat = len(self.D)\n",
    "        n = X.shape[0]\n",
    "        self.c = []\n",
    "        self.mu = []\n",
    "        self.sigma = []\n",
    "        self.sigma_lda = []\n",
    "\n",
    "\n",
    "\n",
    "        for i in range(n_cat):\n",
    "            #Se calculan las constantes para cada conjunto\n",
    "            self.c.append(self.D[i].shape[0]/n)\n",
    "\n",
    "            #Se calcula la media de cada categoría\n",
    "            self.mu.append( (1/self.D[i].shape[0]) * np.sum(self.D[i],axis = 0))\n",
    "\n",
    "            #Se calcula sigma para cada categoría\n",
    "            self.sigma.append((1/(self.D[i].shape[0]-1)) * ((self.D[i]-self.mu[i]) @ np.transpose(self.D[i]-self.mu[i])) )\n",
    "\n",
    "            #Se calcula el sigma que se utiliza en el método LDA para cada categoría\n",
    "            self.sigma_lda.append((1/(n-n_cat)) * (self.D[i].shape[0] -1 ) * self.sigma[i])\n",
    "        \n",
    "        print((self.sigma[0]).shape)\n",
    "        print(self.sigma_lda[0].shape)\n",
    "        print(self.D[0].shape)\n",
    "        print(self.mu[0].shape)\n",
    "        \n",
    "        \n",
    "\n",
    "        \n",
    "\n",
    "    # #Testeo hard\n",
    "    # def predict (self, X):\n",
    "    \n",
    "    # #Testeo soft\n",
    "    # def predict_prob (self, X):\n",
    "\n",
    "    # #Alternativa práctica para el testeo soft\n",
    "    # def predict_discriminant(self, X):\n"
   ]
  },
  {
   "cell_type": "code",
   "execution_count": 75,
   "id": "d319d26a",
   "metadata": {},
   "outputs": [
    {
     "name": "stdout",
     "output_type": "stream",
     "text": [
      "(82, 82)\n",
      "(82, 82)\n",
      "(82, 11)\n",
      "(11,)\n"
     ]
    }
   ],
   "source": [
    "#Testing\n",
    "\n",
    "model = LDA_QDA()\n",
    "\n",
    "model.fit(x_train,y_train)\n",
    "\n",
    "\n"
   ]
  }
 ],
 "metadata": {
  "kernelspec": {
   "display_name": "Python 3",
   "language": "python",
   "name": "python3"
  },
  "language_info": {
   "codemirror_mode": {
    "name": "ipython",
    "version": 3
   },
   "file_extension": ".py",
   "mimetype": "text/x-python",
   "name": "python",
   "nbconvert_exporter": "python",
   "pygments_lexer": "ipython3",
   "version": "3.13.0"
  }
 },
 "nbformat": 4,
 "nbformat_minor": 5
}
