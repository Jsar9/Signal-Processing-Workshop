{
 "cells": [
  {
   "cell_type": "markdown",
   "id": "ec1ee5b4",
   "metadata": {},
   "source": [
    "# Trabajo práctico N°2 - Regresión polinómica."
   ]
  },
  {
   "cell_type": "markdown",
   "id": "0a55acd7",
   "metadata": {},
   "source": [
    "# Exploración de datos."
   ]
  },
  {
   "cell_type": "code",
   "execution_count": 467,
   "id": "ae0d22b8",
   "metadata": {},
   "outputs": [],
   "source": [
    "#librerías\n",
    "import pandas as pd\n",
    "import numpy as np\n",
    "import matplotlib.pyplot as plt"
   ]
  },
  {
   "cell_type": "markdown",
   "id": "a2e9c704",
   "metadata": {},
   "source": [
    "##### Se definen los conjuntos de entrenamiento, testeo y validación."
   ]
  },
  {
   "cell_type": "code",
   "execution_count": 468,
   "id": "36fba6b5",
   "metadata": {},
   "outputs": [],
   "source": [
    "\n",
    "#se cargan los datos del csv\n",
    "df = pd.read_csv('car_data.csv')\n",
    "\n",
    "#Se eliminan del df las columnas del nombre del auto y su dueño.\n",
    "df.drop('Car_Name', axis=1, inplace=True)  #Se modifica el df en sí, no genera una copia.\n",
    "df.drop('Owner', axis=1, inplace=True) \n",
    "\n",
    "#Se definen los conjuntos de entrenamiento, testeo y validación\n",
    "train = df[df['Set'] == 'Train'].copy()\n",
    "test = df[df['Set'] == 'Test'].copy()\n",
    "validation = df[df['Set'] == 'Validation'].copy()\n",
    "\n",
    "#Se elimina la columna Set del df original y de los demás\n",
    "df.drop('Set', axis=1, inplace=True)\n",
    "train.drop('Set', axis=1, inplace=True)\n",
    "test.drop('Set', axis=1, inplace=True)\n",
    "validation.drop('Set', axis=1, inplace=True)\n"
   ]
  },
  {
   "cell_type": "markdown",
   "id": "8311e20d",
   "metadata": {},
   "source": [
    "##### Se calculan las proporciones de las variables categóricas, representando las probabilidades de cada una."
   ]
  },
  {
   "cell_type": "code",
   "execution_count": 469,
   "id": "1144d885",
   "metadata": {},
   "outputs": [
    {
     "name": "stdout",
     "output_type": "stream",
     "text": [
      "Fuel_Type\n",
      "Petrol    0.794020\n",
      "Diesel    0.199336\n",
      "CNG       0.006645\n",
      "Name: proportion, dtype: float64 \n",
      "\n",
      "Seller_Type\n",
      "Dealer        0.647841\n",
      "Individual    0.352159\n",
      "Name: proportion, dtype: float64 \n",
      "\n",
      "Transmission\n",
      "Manual       0.86711\n",
      "Automatic    0.13289\n",
      "Name: proportion, dtype: float64 \n",
      "\n"
     ]
    }
   ],
   "source": [
    "#Se calculan las probabilidades para los tipos de combustible (Fuel_Type)\n",
    "prob_fuel_type = df['Fuel_Type'].value_counts(normalize=True)\n",
    "\n",
    "#Se calculan las probabildiades para lso tipos de vendedores (Seller_Type)\n",
    "prob_seller_type = df['Seller_Type'].value_counts(normalize=True)\n",
    "\n",
    "#Se calculan las probabilidades de los tipos de transmisiones (Transmission)\n",
    "prob_transmission_type = df['Transmission'].value_counts(normalize=True)\n",
    "\n",
    "print(prob_fuel_type,'\\n')\n",
    "print(prob_seller_type,'\\n')\n",
    "print(prob_transmission_type,'\\n')"
   ]
  },
  {
   "cell_type": "markdown",
   "id": "52d173f2",
   "metadata": {},
   "source": [
    "# Pre-procesamiento."
   ]
  },
  {
   "cell_type": "code",
   "execution_count": 470,
   "id": "c28f82a4",
   "metadata": {},
   "outputs": [],
   "source": [
    "#librerias\n",
    "from sklearn.preprocessing import OneHotEncoder, PolynomialFeatures, StandardScaler\n",
    "from sklearn.compose import ColumnTransformer\n",
    "from sklearn.pipeline import Pipeline\n",
    "from sklearn.linear_model import LinearRegression\n",
    "from sklearn.metrics import mean_squared_error"
   ]
  },
  {
   "cell_type": "markdown",
   "id": "e0ed81b9",
   "metadata": {},
   "source": [
    "##### Codificación."
   ]
  },
  {
   "cell_type": "code",
   "execution_count": 471,
   "id": "7f7fbe2b",
   "metadata": {},
   "outputs": [
    {
     "name": "stdout",
     "output_type": "stream",
     "text": [
      "[array(['CNG', 'Diesel', 'Petrol'], dtype=object)]\n"
     ]
    }
   ],
   "source": [
    "#Se codifican las variables categóricas\n",
    "\n",
    "#Variables binarias - Se definen los menos probables como True - con el fin de aprovechar el Sparse\n",
    "# Transmission: Automatic está definido True (pasado a 1 por .astype(int))\n",
    "transmission_train = (train['Transmission'] == 'Automatic').astype(int)\n",
    "\n",
    "# Seller_Type: Individual está definido como True (pasado a 1 por .astype(int))\n",
    "seller_train = (train['Seller_Type'] == 'Individual').astype(int)\n",
    " \n",
    "#Variables de 3 categorías:\n",
    "#Se crea el encoder como un array denso (no elimina los 0's)\n",
    "fuel_encoder = OneHotEncoder(sparse_output=False)\n",
    "\n",
    "#Se transforma la columna del df a una codificación one-hot, utilizando el fuel_encoder\n",
    "fuel_train = fuel_encoder.fit_transform(train[['Fuel_Type']])\n",
    "\n",
    "\n",
    "#Se repite el mismo procedimiento para los datos de validación y testeo\n",
    "# ------ Validación\n",
    "transmission_val = (validation['Transmission'] == 'Automatic').astype(int)\n",
    "\n",
    "seller_val = (validation['Seller_Type'] == 'Individual').astype(int)\n",
    "\n",
    "#Se aplica solo transform, ya que el modelo no debe tener información desconocida en el training\n",
    "fuel_val = fuel_encoder.transform(validation[['Fuel_Type']])\n",
    "\n",
    "# ------ Testeo\n",
    "transmission_test = (test['Transmission'] == 'Automatic').astype(int)\n",
    "\n",
    "seller_test = (test['Seller_Type'] == 'Individual').astype(int)\n",
    "\n",
    "#Se aplica solo transform, ya que el modelo no debe tener información 'desconocida' en el training\n",
    "fuel_test = fuel_encoder.transform(test[['Fuel_Type']])\n",
    "\n",
    "\n",
    "#Se aprecia el orden de las categorias de combustible ya codificadas\n",
    "print(fuel_encoder.categories_)\n"
   ]
  },
  {
   "cell_type": "markdown",
   "id": "778a961b",
   "metadata": {},
   "source": [
    "##### Mapa polinómico."
   ]
  },
  {
   "cell_type": "code",
   "execution_count": 472,
   "id": "6ced8893",
   "metadata": {},
   "outputs": [
    {
     "name": "stdout",
     "output_type": "stream",
     "text": [
      "     Year  Present_Price  Kms_Driven\n",
      "0    2014           5.59       27000\n",
      "1    2013           9.54       43000\n",
      "2    2017           9.85        6900\n",
      "3    2011           4.15        5200\n",
      "5    2018           9.83        2071\n",
      "..    ...            ...         ...\n",
      "296  2016          11.60       33988\n",
      "297  2015           5.90       60000\n",
      "298  2009          11.00       87934\n",
      "299  2017          12.50        9000\n",
      "300  2016           5.90        5464\n",
      "\n",
      "[270 rows x 3 columns]\n"
     ]
    }
   ],
   "source": [
    "#Se seleccionan las columnas con valores exceptuando las categóricas y el precio de venta.\n",
    "values_train = train.drop(columns = ['Selling_Price','Transmission','Seller_Type','Fuel_Type' ])\n",
    "values_val = validation.drop(columns=['Selling_Price','Transmission','Seller_Type','Fuel_Type'])\n",
    "values_test = test.drop(columns=['Selling_Price','Transmission','Seller_Type','Fuel_Type'])\n",
    "\n",
    "#Se crea el mapa polinómico de grado 3, sin incluir la columna de 1's\n",
    "poly = PolynomialFeatures(degree=3, include_bias=False)\n",
    "\n",
    "values_train_poly = poly.fit_transform(values_train)\n",
    "\n",
    "values_val_poly = poly.transform(values_val)\n",
    "\n",
    "values_test_poly = poly.transform(values_test)\n",
    "\n",
    "print(values_train)\n",
    "\n",
    "#Se concatenan todos los datos en un array de numpy antes de pasarlos a ColumnTransformer\n",
    "train_combined = np.c_[\n",
    "    values_train_poly,\n",
    "    transmission_train.values,\n",
    "    seller_train.values,\n",
    "    fuel_train\n",
    "]\n",
    "\n",
    "val_combined = np.c_[\n",
    "    values_val_poly,\n",
    "    transmission_val.values,\n",
    "    seller_val.values,\n",
    "    fuel_val\n",
    "]\n",
    "\n",
    "test_combined = np.c_[\n",
    "    values_test_poly,\n",
    "    transmission_test.values,\n",
    "    seller_test.values,\n",
    "    fuel_test\n",
    "]\n",
    "\n",
    "\n",
    "#Se prepara el transformador de los datos, indicando la normalización\n",
    "preprocessor = ColumnTransformer([\n",
    "    ('scaler', StandardScaler(), list(range(train_combined.shape[1])))\n",
    "])\n"
   ]
  },
  {
   "cell_type": "markdown",
   "id": "38982027",
   "metadata": {},
   "source": [
    "# Regresión Lineal."
   ]
  },
  {
   "cell_type": "code",
   "execution_count": 473,
   "id": "30d349be",
   "metadata": {},
   "outputs": [],
   "source": [
    "#librerías\n",
    "from IPython.display import display\n",
    "from graphviz import Digraph"
   ]
  },
  {
   "cell_type": "code",
   "execution_count": 474,
   "id": "a814c132",
   "metadata": {},
   "outputs": [],
   "source": [
    "#Se define el pipeline, indicando primero la normalización y luego el entrenamiento de la regresión lineal\n",
    "pipeline = Pipeline([\n",
    "    ('preprocessing', preprocessor),\n",
    "    ('regressor', LinearRegression())\n",
    "])"
   ]
  },
  {
   "cell_type": "markdown",
   "id": "c1581371",
   "metadata": {},
   "source": [
    "##### El modelo tiene 27 parámetros debido a que: 3 provienen de las variables categóricas, 3 provienen de las variables numéricas y 1 proviene del sesgo. Por otro lado, las 20 restantes provienen del mapa polinómico."
   ]
  },
  {
   "cell_type": "markdown",
   "id": "32f5621f",
   "metadata": {},
   "source": [
    "##### Diagrama del sistema definido."
   ]
  },
  {
   "cell_type": "code",
   "execution_count": 475,
   "id": "6658681c",
   "metadata": {},
   "outputs": [
    {
     "data": {
      "image/svg+xml": [
       "<?xml version=\"1.0\" encoding=\"UTF-8\" standalone=\"no\"?>\n",
       "<!DOCTYPE svg PUBLIC \"-//W3C//DTD SVG 1.1//EN\"\n",
       " \"http://www.w3.org/Graphics/SVG/1.1/DTD/svg11.dtd\">\n",
       "<!-- Generated by graphviz version 13.1.2 (20250808.2320)\n",
       " -->\n",
       "<!-- Pages: 1 -->\n",
       "<svg width=\"336pt\" height=\"476pt\"\n",
       " viewBox=\"0.00 0.00 336.00 476.00\" xmlns=\"http://www.w3.org/2000/svg\" xmlns:xlink=\"http://www.w3.org/1999/xlink\">\n",
       "<g id=\"graph0\" class=\"graph\" transform=\"scale(1 1) rotate(0) translate(4 472)\">\n",
       "<polygon fill=\"white\" stroke=\"none\" points=\"-4,4 -4,-472 331.9,-472 331.9,4 -4,4\"/>\n",
       "<!-- X -->\n",
       "<g id=\"node1\" class=\"node\">\n",
       "<title>X</title>\n",
       "<ellipse fill=\"none\" stroke=\"black\" cx=\"163.95\" cy=\"-450\" rx=\"32.41\" ry=\"18\"/>\n",
       "<text xml:space=\"preserve\" text-anchor=\"middle\" x=\"163.95\" y=\"-444.95\" font-family=\"Times New Roman,serif\" font-size=\"14.00\">Datos</text>\n",
       "</g>\n",
       "<!-- C -->\n",
       "<g id=\"node2\" class=\"node\">\n",
       "<title>C</title>\n",
       "<ellipse fill=\"none\" stroke=\"black\" cx=\"163.95\" cy=\"-378\" rx=\"54.42\" ry=\"18\"/>\n",
       "<text xml:space=\"preserve\" text-anchor=\"middle\" x=\"163.95\" y=\"-372.95\" font-family=\"Times New Roman,serif\" font-size=\"14.00\">Codifiación</text>\n",
       "</g>\n",
       "<!-- X&#45;&gt;C -->\n",
       "<g id=\"edge1\" class=\"edge\">\n",
       "<title>X&#45;&gt;C</title>\n",
       "<path fill=\"none\" stroke=\"black\" d=\"M163.95,-431.7C163.95,-424.41 163.95,-415.73 163.95,-407.54\"/>\n",
       "<polygon fill=\"black\" stroke=\"black\" points=\"167.45,-407.62 163.95,-397.62 160.45,-407.62 167.45,-407.62\"/>\n",
       "</g>\n",
       "<!-- N -->\n",
       "<g id=\"node3\" class=\"node\">\n",
       "<title>N</title>\n",
       "<ellipse fill=\"none\" stroke=\"black\" cx=\"163.95\" cy=\"-306\" rx=\"135.29\" ry=\"18\"/>\n",
       "<text xml:space=\"preserve\" text-anchor=\"middle\" x=\"163.95\" y=\"-300.95\" font-family=\"Times New Roman,serif\" font-size=\"14.00\">Extracción de Valores Numéricos</text>\n",
       "</g>\n",
       "<!-- C&#45;&gt;N -->\n",
       "<g id=\"edge2\" class=\"edge\">\n",
       "<title>C&#45;&gt;N</title>\n",
       "<path fill=\"none\" stroke=\"black\" d=\"M163.95,-359.7C163.95,-352.41 163.95,-343.73 163.95,-335.54\"/>\n",
       "<polygon fill=\"black\" stroke=\"black\" points=\"167.45,-335.62 163.95,-325.62 160.45,-335.62 167.45,-335.62\"/>\n",
       "</g>\n",
       "<!-- P -->\n",
       "<g id=\"node4\" class=\"node\">\n",
       "<title>P</title>\n",
       "<ellipse fill=\"none\" stroke=\"black\" cx=\"163.95\" cy=\"-234\" rx=\"77.97\" ry=\"18\"/>\n",
       "<text xml:space=\"preserve\" text-anchor=\"middle\" x=\"163.95\" y=\"-228.95\" font-family=\"Times New Roman,serif\" font-size=\"14.00\">Mapa Polinómico</text>\n",
       "</g>\n",
       "<!-- N&#45;&gt;P -->\n",
       "<g id=\"edge3\" class=\"edge\">\n",
       "<title>N&#45;&gt;P</title>\n",
       "<path fill=\"none\" stroke=\"black\" d=\"M163.95,-287.7C163.95,-280.41 163.95,-271.73 163.95,-263.54\"/>\n",
       "<polygon fill=\"black\" stroke=\"black\" points=\"167.45,-263.62 163.95,-253.62 160.45,-263.62 167.45,-263.62\"/>\n",
       "</g>\n",
       "<!-- Q -->\n",
       "<g id=\"node5\" class=\"node\">\n",
       "<title>Q</title>\n",
       "<ellipse fill=\"none\" stroke=\"black\" cx=\"163.95\" cy=\"-162\" rx=\"98.95\" ry=\"18\"/>\n",
       "<text xml:space=\"preserve\" text-anchor=\"middle\" x=\"163.95\" y=\"-156.95\" font-family=\"Times New Roman,serif\" font-size=\"14.00\">Concatenación de datos</text>\n",
       "</g>\n",
       "<!-- P&#45;&gt;Q -->\n",
       "<g id=\"edge4\" class=\"edge\">\n",
       "<title>P&#45;&gt;Q</title>\n",
       "<path fill=\"none\" stroke=\"black\" d=\"M163.95,-215.7C163.95,-208.41 163.95,-199.73 163.95,-191.54\"/>\n",
       "<polygon fill=\"black\" stroke=\"black\" points=\"167.45,-191.62 163.95,-181.62 160.45,-191.62 167.45,-191.62\"/>\n",
       "</g>\n",
       "<!-- D -->\n",
       "<g id=\"node6\" class=\"node\">\n",
       "<title>D</title>\n",
       "<ellipse fill=\"none\" stroke=\"black\" cx=\"163.95\" cy=\"-90\" rx=\"163.95\" ry=\"18\"/>\n",
       "<text xml:space=\"preserve\" text-anchor=\"middle\" x=\"163.95\" y=\"-84.95\" font-family=\"Times New Roman,serif\" font-size=\"14.00\">Definir el preprocesamiento y el pipeline</text>\n",
       "</g>\n",
       "<!-- Q&#45;&gt;D -->\n",
       "<g id=\"edge5\" class=\"edge\">\n",
       "<title>Q&#45;&gt;D</title>\n",
       "<path fill=\"none\" stroke=\"black\" d=\"M163.95,-143.7C163.95,-136.41 163.95,-127.73 163.95,-119.54\"/>\n",
       "<polygon fill=\"black\" stroke=\"black\" points=\"167.45,-119.62 163.95,-109.62 160.45,-119.62 167.45,-119.62\"/>\n",
       "</g>\n",
       "<!-- T -->\n",
       "<g id=\"node7\" class=\"node\">\n",
       "<title>T</title>\n",
       "<ellipse fill=\"none\" stroke=\"black\" cx=\"163.95\" cy=\"-18\" rx=\"65.68\" ry=\"18\"/>\n",
       "<text xml:space=\"preserve\" text-anchor=\"middle\" x=\"163.95\" y=\"-12.95\" font-family=\"Times New Roman,serif\" font-size=\"14.00\">Entrenamiento</text>\n",
       "</g>\n",
       "<!-- D&#45;&gt;T -->\n",
       "<g id=\"edge6\" class=\"edge\">\n",
       "<title>D&#45;&gt;T</title>\n",
       "<path fill=\"none\" stroke=\"black\" d=\"M163.95,-71.7C163.95,-64.41 163.95,-55.73 163.95,-47.54\"/>\n",
       "<polygon fill=\"black\" stroke=\"black\" points=\"167.45,-47.62 163.95,-37.62 160.45,-47.62 167.45,-47.62\"/>\n",
       "</g>\n",
       "</g>\n",
       "</svg>\n"
      ],
      "text/plain": [
       "<graphviz.graphs.Digraph at 0x2377d6e3190>"
      ]
     },
     "metadata": {},
     "output_type": "display_data"
    }
   ],
   "source": [
    "#Se crea el diagrama\n",
    "dot = Digraph(comment='Pipeline')\n",
    "\n",
    "#Se crean los nodos\n",
    "dot.node('X', 'Datos')\n",
    "dot.node('C', 'Codifiación')\n",
    "dot.node('N', 'Extracción de Valores Numéricos')\n",
    "dot.node('P', 'Mapa Polinómico')\n",
    "dot.node('Q', 'Concatenación de datos')\n",
    "dot.node('D', 'Definir el preprocesamiento y el pipeline')\n",
    "dot.node('T', 'Entrenamiento')\n",
    "\n",
    "#Se definen las conexiones\n",
    "dot.edges(['XC', 'CN','NP','PQ','QD','DT'])\n",
    "\n",
    "#Se muestra el diagrama\n",
    "display(dot)"
   ]
  },
  {
   "cell_type": "markdown",
   "id": "5b3a50d6",
   "metadata": {},
   "source": [
    "##### Entrenamiento del sistema."
   ]
  },
  {
   "cell_type": "code",
   "execution_count": 476,
   "id": "3a731331",
   "metadata": {},
   "outputs": [
    {
     "name": "stdout",
     "output_type": "stream",
     "text": [
      "Coeficientes: (24,)\n"
     ]
    }
   ],
   "source": [
    "#Se selecciona la variable a predecir para los conjuntos de datos\n",
    "y_train = train['Selling_Price'].values\n",
    "y_val = validation['Selling_Price'].values\n",
    "y_test = test['Selling_Price'].values\n",
    "\n",
    "#Se entrena el modelo\n",
    "pipeline.fit(train_combined, y_train)\n",
    "\n",
    "\n",
    "#Coeficientes\n",
    "lr_model = pipeline.named_steps['regressor']\n",
    "print(\"Coeficientes:\", lr_model.coef_.shape) #Preguntar"
   ]
  },
  {
   "cell_type": "markdown",
   "id": "b257a318",
   "metadata": {},
   "source": [
    "##### Predicción y errores."
   ]
  },
  {
   "cell_type": "code",
   "execution_count": 477,
   "id": "af5994da",
   "metadata": {},
   "outputs": [
    {
     "name": "stdout",
     "output_type": "stream",
     "text": [
      "Error de entrenamiento: 0.4726923559567102\n",
      "Error de validación: 0.5419991552145724\n"
     ]
    }
   ],
   "source": [
    "#Se realiza la predicción para los datos de entrenamiento y de validación\n",
    "y_train_pred = pipeline.predict(train_combined)\n",
    "y_val_pred = pipeline.predict(val_combined)\n",
    "\n",
    "#Se calcula el MSE de entrenamiento y de validación\n",
    "mse_train = mean_squared_error(y_train, y_train_pred)\n",
    "mse_val = mean_squared_error(y_val, y_val_pred)\n",
    "\n",
    "print('Error de entrenamiento:',mse_train)\n",
    "print('Error de validación:',mse_val)"
   ]
  },
  {
   "cell_type": "markdown",
   "id": "7c31df4f",
   "metadata": {},
   "source": [
    "# Regularización."
   ]
  },
  {
   "cell_type": "code",
   "execution_count": 478,
   "id": "d3f12d3d",
   "metadata": {},
   "outputs": [],
   "source": [
    "#librerias\n",
    "from sklearn.linear_model import Ridge"
   ]
  },
  {
   "cell_type": "markdown",
   "id": "a434f03b",
   "metadata": {},
   "source": [
    "##### Regresión Polinómica Regularizada."
   ]
  },
  {
   "cell_type": "code",
   "execution_count": 479,
   "id": "e06b4514",
   "metadata": {},
   "outputs": [
    {
     "data": {
      "image/png": "[encoded data removed]",
      "text/plain": [
       "<Figure size 640x480 with 1 Axes>"
      ]
     },
     "metadata": {},
     "output_type": "display_data"
    }
   ],
   "source": [
    "pipeline = Pipeline([\n",
    "    ('preprocessing', preprocessor),\n",
    "    ('ridge', Ridge())\n",
    "])\n",
    "\n",
    "#Se genera el array de lambdas en el intervalo dado\n",
    "lambda_min=1e-6\n",
    "lambda_max=1e-2\n",
    "n_samples = 1000\n",
    "lambda_array = np.linspace(lambda_min, lambda_max, n_samples)\n",
    "\n",
    "#Se generan listas vacías para cargar los valores MSE de entrenamiento y validación\n",
    "mse_train_list = []\n",
    "mse_val_list = []\n",
    "\n",
    "for alpha in lambda_array:\n",
    "    #Se actualiza el parámetro de ridge\n",
    "    pipeline.set_params(ridge__alpha=alpha)\n",
    "    \n",
    "    #Se realiza el entrenamiento con el nuevo parámetro\n",
    "    pipeline.fit(train_combined, y_train)\n",
    "    \n",
    "    #Se realizan las predicciones\n",
    "    y_train_pred = pipeline.predict(train_combined)\n",
    "    y_val_pred   = pipeline.predict(val_combined)\n",
    "    \n",
    "    #Se cargan los MSE en las listas\n",
    "    mse_train_list.append(mean_squared_error(y_train, y_train_pred))\n",
    "    mse_val_list.append(mean_squared_error(y_val, y_val_pred))\n",
    "\n",
    "plt.plot(lambda_array*10000, mse_train_list,label = 'Entrenamiento')\n",
    "plt.plot(lambda_array*10000, mse_val_list,label = 'Validacion')\n",
    "plt.title('MSE')\n",
    "plt.legend(loc = 'upper right')\n",
    "plt.ylabel('MSE')\n",
    "plt.xlabel(r'$\\lambda$')\n",
    "plt.xlim(0,100)\n",
    "plt.grid()\n",
    "plt.show()"
   ]
  },
  {
   "cell_type": "markdown",
   "id": "22be329e",
   "metadata": {},
   "source": [
    "##### Se calcula el MSE de testeo para el $\\lambda$ minimo de validación"
   ]
  },
  {
   "cell_type": "code",
   "execution_count": 480,
   "id": "68445fed",
   "metadata": {},
   "outputs": [
    {
     "name": "stdout",
     "output_type": "stream",
     "text": [
      "Mínimo del MSE de validación: 0.456699222074601\n",
      "MSE para el lambda que minimiza el error de validación:  0.684397398746322\n"
     ]
    }
   ],
   "source": [
    "#El lambda que produce el mínimo MSE\n",
    "lambda_min_val = np.min(mse_val_list)\n",
    "\n",
    "print('Mínimo del MSE de validación:', lambda_min_val)\n",
    "\n",
    "#Se coloca el parámetro de ridge\n",
    "pipeline.set_params(ridge__alpha=lambda_min_val)\n",
    "    \n",
    "#Se realiza el entrenamiento con el nuevo parámetro\n",
    "pipeline.fit(train_combined, y_train)\n",
    "    \n",
    "#Se realiza la predicción para los datos de testeo\n",
    "y_test_pred = pipeline.predict(test_combined)\n",
    "\n",
    "#Se calcula el MSE para los datos de testeo\n",
    "print('MSE para el lambda que minimiza el error de validación: ',mean_squared_error(y_test, y_test_pred))"
   ]
  },
  {
   "cell_type": "markdown",
   "id": "eab3d66e",
   "metadata": {},
   "source": [
    "Preguntas:\n",
    "\n",
    "el PolynomialFeatures, se aplica al DF completo una vez codificadas las columnas de variables categóricas?\n",
    "Eso me ahorraría realizar la división de los campos numéricos. Y probablemente mejoraría el ajuste, ya que se contemplarían las mismas. Ver que además hay un problema con la cantidad de parámetros.\n",
    "\n"
   ]
  }
 ],
 "metadata": {
  "kernelspec": {
   "display_name": "Python 3",
   "language": "python",
   "name": "python3"
  },
  "language_info": {
   "codemirror_mode": {
    "name": "ipython",
    "version": 3
   },
   "file_extension": ".py",
   "mimetype": "text/x-python",
   "name": "python",
   "nbconvert_exporter": "python",
   "pygments_lexer": "ipython3",
   "version": "3.11.4"
  }
 },
 "nbformat": 4,
 "nbformat_minor": 5
}
