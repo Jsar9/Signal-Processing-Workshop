{
 "cells": [
  {
   "cell_type": "markdown",
   "id": "94f8fde9",
   "metadata": {},
   "source": [
    "# TP8 - Modelos de lenguaje y sistemas de recomendación"
   ]
  },
  {
   "cell_type": "code",
   "execution_count": 42,
   "id": "5bc784e9",
   "metadata": {},
   "outputs": [],
   "source": [
    "#librerias\n",
    "import numpy as np\n",
    "import pandas as pd\n",
    "import matplotlib.pyplot as plt\n",
    "from sentence_transformers import SentenceTransformer"
   ]
  },
  {
   "cell_type": "markdown",
   "id": "c30cb410",
   "metadata": {},
   "source": [
    "# Exploración del dataset"
   ]
  },
  {
   "cell_type": "code",
   "execution_count": 43,
   "id": "4bd7f20f",
   "metadata": {},
   "outputs": [],
   "source": [
    "#Funciones\n",
    "\n",
    "def processing_text (text):\n",
    "\n",
    "    #Se separan las palabras por espacios\n",
    "    words_list = text.split() \n",
    "\n",
    "    #Se concatenan las palabras agregando un único espacio\n",
    "    text_unified = \" \".join(words_list) \n",
    "\n",
    "    #Se pasan los caracteres a minuscula\n",
    "    text.lower()\n",
    "\n",
    "    return text_unified\n"
   ]
  },
  {
   "cell_type": "code",
   "execution_count": 44,
   "id": "239b8b50",
   "metadata": {},
   "outputs": [],
   "source": [
    "filename = 'anime.csv'\n",
    "df = pd.read_csv(filename)\n",
    "\n",
    "language_model = SentenceTransformer('sentence-transformers/paraphrase-multilingual-mpnet-base-v2')\n",
    "\n"
   ]
  }
 ],
 "metadata": {
  "kernelspec": {
   "display_name": "Python 3",
   "language": "python",
   "name": "python3"
  },
  "language_info": {
   "codemirror_mode": {
    "name": "ipython",
    "version": 3
   },
   "file_extension": ".py",
   "mimetype": "text/x-python",
   "name": "python",
   "nbconvert_exporter": "python",
   "pygments_lexer": "ipython3",
   "version": "3.13.0"
  }
 },
 "nbformat": 4,
 "nbformat_minor": 5
}
